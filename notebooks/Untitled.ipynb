{
 "cells": [
  {
   "cell_type": "code",
   "execution_count": null,
   "id": "22cf4e30",
   "metadata": {},
   "outputs": [],
   "source": [
    "import pandas as pd\n",
    "import matplotlib.pyplot as plt\n",
    "import seaborn as sns\n",
    "\n",
    "# Load the dataset\n",
    "df = pd.read_csv('../data/credit_data.csv')\n",
    "\n",
    "# Display first few rows\n",
    "df.head()\n",
    "\n",
    "# Rename target column\n",
    "df = df.rename(columns={'default.payment.next.month': 'default'})\n",
    "\n",
    "# Basic information about the dataset\n",
    "df.info()\n",
    "\n",
    "# Statistical summary\n",
    "df.describe()\n",
    "\n",
    "# Check for missing values\n",
    "df.isnull().sum()\n",
    "\n",
    "# Distribution of the target variable\n",
    "sns.countplot(x='default', data=df)\n",
    "plt.title('Distribution of Default Variable')\n",
    "plt.show()\n",
    "\n",
    "# Correlation matrix\n",
    "corr_matrix = df.corr()\n",
    "plt.figure(figsize=(12,10))\n",
    "sns.heatmap(corr_matrix, annot=False, cmap='coolwarm')\n",
    "plt.title('Correlation Matrix')\n",
    "plt.show()\n",
    "\n",
    "# Histograms of numerical features\n",
    "df.hist(figsize=(20,20))\n",
    "plt.show()\n",
    "\n",
    "# Box plots to detect outliers\n",
    "numerical_features = ['LIMIT_BAL', 'AGE', 'BILL_AMT1', 'PAY_AMT1']\n",
    "for feature in numerical_features:\n",
    "    plt.figure(figsize=(8,4))\n",
    "    sns.boxplot(x=df[feature])\n",
    "    plt.title(f'Boxplot of {feature}')\n",
    "    plt.show()\n"
   ]
  }
 ],
 "metadata": {
  "kernelspec": {
   "display_name": "Python 3 (ipykernel)",
   "language": "python",
   "name": "python3"
  },
  "language_info": {
   "codemirror_mode": {
    "name": "ipython",
    "version": 3
   },
   "file_extension": ".py",
   "mimetype": "text/x-python",
   "name": "python",
   "nbconvert_exporter": "python",
   "pygments_lexer": "ipython3",
   "version": "3.11.4"
  }
 },
 "nbformat": 4,
 "nbformat_minor": 5
}
